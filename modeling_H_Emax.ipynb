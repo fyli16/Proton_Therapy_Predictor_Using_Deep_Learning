{
 "cells": [
  {
   "cell_type": "markdown",
   "id": "08d8c385",
   "metadata": {},
   "source": [
    "We build, train, and evaluate several machine learning solutions (including random forest, XGBoost, and deep learning) to predict the maximum proton beam energy vs. system parameters (laser and plasma target). "
   ]
  },
  {
   "cell_type": "markdown",
   "id": "f9f7870c",
   "metadata": {},
   "source": [
    "# Modules"
   ]
  },
  {
   "cell_type": "code",
   "execution_count": 1,
   "id": "cfaa890b",
   "metadata": {},
   "outputs": [],
   "source": [
    "import tensorflow as tf\n",
    "from tensorflow import keras\n",
    "\n",
    "import keras_tuner\n",
    "from keras_tuner import BayesianOptimization\n",
    "\n",
    "from sklearn.model_selection import train_test_split\n",
    "from sklearn.preprocessing import MinMaxScaler\n",
    "from sklearn.pipeline import Pipeline\n",
    "from sklearn.ensemble import RandomForestRegressor\n",
    "from sklearn.metrics import mean_absolute_error, mean_squared_error, r2_score\n",
    "\n",
    "from xgboost import XGBRegressor\n",
    "\n",
    "import pandas as pd\n",
    "\n",
    "import numpy as np\n",
    "from math import log10, floor\n",
    "\n",
    "import datetime\n",
    "import tqdm\n",
    "\n",
    "import matplotlib.pyplot as plt\n",
    "import seaborn as sns\n",
    "import matplotlib.gridspec as grd\n",
    "\n",
    "# Python Modules for Sensitivity Analysis\n",
    "import shap  # Shapley Analysis\n",
    "import SALib  # Sobol and PAWN Analysis\n",
    "from SALib.sample import sobol as sample\n",
    "from SALib.analyze import sobol as sobol\n",
    "\n",
    "# calculate train/test scores\n",
    "def train_test_score(model, X_train, y_train, X_test, y_test, slient=False):   \n",
    "    y_train_pred = model.predict(X_train)\n",
    "    train_mae = mean_absolute_error(y_train, y_train_pred)\n",
    "    train_mse = mean_squared_error(y_train, y_train_pred)\n",
    "    train_r2 = r2_score(y_train, y_train_pred)\n",
    "    if not slient:\n",
    "        print('train MAE: %.2e'%train_mae)\n",
    "        print('train MSE: %.2e'%train_mse)\n",
    "        print('train R2: %.3f'%train_r2)\n",
    "        print('-----------')\n",
    "    y_test_pred = model.predict(X_test)\n",
    "    test_mae = mean_absolute_error(y_test, y_test_pred)\n",
    "    test_mse = mean_squared_error(y_test, y_test_pred)\n",
    "    test_r2 = r2_score(y_test, y_test_pred)\n",
    "    if not slient:\n",
    "        print('train MAE: %.2e'%test_mae)\n",
    "        print('train MSE: %.2e'%test_mse)\n",
    "        print('train R2: %.3f'%test_r2)\n",
    "    return train_mae, train_mse, train_r2, test_mae, test_mse, test_r2\n",
    "\n",
    "def visualize_prediction(y_train_pred, train_r2, y_test_pred, test_r2):\n",
    "    fig = plt.figure(figsize=[6,5])\n",
    "    gs = grd.GridSpec(2, 2, height_ratios=[5,4], width_ratios=[1,1], wspace=0.4, hspace=0.55)\n",
    "    # ------- train data ---------\n",
    "    ax1 = fig.add_subplot(gs[0])\n",
    "    sns.regplot(ax=ax1, x=y_train, y=y_train_pred, scatter_kws={'alpha':0.3,'s':1,'color':'blue'},line_kws={'color':'red', 'linestyle':'--'})\n",
    "    ax1.set_title('train R2: %.3f'%train_r2, fontsize=12)\n",
    "    # ax1.set_xlim(0,1); ax1.set_ylim(0,1)\n",
    "    ax1.set_xlabel('Actual energy (MeV)', fontsize=10)\n",
    "    ax1.set_ylabel('Predicted energy (MeV)', fontsize=10)\n",
    "    ax1.grid(True, alpha=0.3)\n",
    "    ax1 = fig.add_subplot(gs[2])\n",
    "    residuals = y_train - y_train_pred\n",
    "    sns.histplot(residuals, ax=ax1, kde=False,bins=1000, color='purple')\n",
    "    ax1.set_xlabel('Prediction Error (MeV)', fontsize=10); ax1.set_xlim(-10,10)\n",
    "    ax1.set_ylabel('Count', fontsize=10)\n",
    "    ax1.axvline(0, color='red', linestyle='--')\n",
    "    ax1.grid(alpha=0.3)\n",
    "    # ------- test data ---------\n",
    "    ax1 = fig.add_subplot(gs[1])\n",
    "    sns.regplot(ax=ax1, x=y_test, y=y_test_pred, scatter_kws={'alpha':0.3,'s':1,'color':'blue'},line_kws={'color':'red', 'linestyle':'--'})\n",
    "    ax1.set_title('test R2: %.3f'%test_r2, fontsize=12)\n",
    "    # ax1.set_xlim(0,1); ax1.set_ylim(0,1)\n",
    "    ax1.set_xlabel('Actual energy (MeV)', fontsize=10)\n",
    "    ax1.set_ylabel('Predicted energy (MeV)', fontsize=10)\n",
    "    ax1.grid(True, alpha=0.3)\n",
    "    ax1 = fig.add_subplot(gs[3])\n",
    "    residuals = y_test - y_test_pred\n",
    "    sns.histplot(residuals, ax=ax1, kde=False,bins=1000, color='purple')\n",
    "    ax1.set_xlabel('Prediction Error (MeV)', fontsize=10); ax1.set_xlim(-10,10)\n",
    "    ax1.set_ylabel('Count', fontsize=10)\n",
    "    ax1.axvline(0, color='red', linestyle='--')\n",
    "    ax1.grid(alpha=0.3)\n",
    "    # plt.tight_layout()\n"
   ]
  },
  {
   "cell_type": "code",
   "execution_count": null,
   "id": "26d0b7ae",
   "metadata": {
    "vscode": {
     "languageId": "markdown"
    }
   },
   "outputs": [],
   "source": [
    "We inherit from `BaseEstimator` and `TransformerMixin` to make our custom transformer compatible with scikit-learn pipelines. \n",
    "\n",
    "- `BaseEstimator` provides basic methods like `get_params` and `set_params`, which are useful for hyperparameter tuning and cloning.\n",
    "\n",
    "- `TransformerMixin` provides the `fit_transform` method and ensures our class follows the transformer interface (i.e., it has `fit` and `transform` methods).\n",
    "\n",
    "This allows our transformer to be used seamlessly in scikit-learn workflows.\n"
   ]
  },
  {
   "cell_type": "markdown",
   "id": "215dae76",
   "metadata": {},
   "source": [
    "# 1. Random Forest"
   ]
  },
  {
   "cell_type": "code",
   "execution_count": 14,
   "id": "1cb1259d",
   "metadata": {},
   "outputs": [],
   "source": [
    "data_URL = \"H_Emax_data.csv\"\n",
    "df = pd.read_csv(data_URL)\n",
    "\n",
    "features = list(df.columns)\n",
    "target = 'max_energy'\n",
    "features.remove(target)\n",
    "\n",
    "X = df[features]\n",
    "y = df[target]\n",
    "\n",
    "# Split Train, Test (Validation split is done later during training)\n",
    "X_train, X_test, y_train, y_test = train_test_split(X, y, test_size=0.1)"
   ]
  },
  {
   "cell_type": "code",
   "execution_count": 16,
   "id": "157c3d03",
   "metadata": {},
   "outputs": [
    {
     "name": "stdout",
     "output_type": "stream",
     "text": [
      "train MAE: 9.17e-01\n",
      "train MSE: 7.39e+00\n",
      "train R2: 0.995\n",
      "-----------\n",
      "train MAE: 2.36e+00\n",
      "train MSE: 4.49e+01\n",
      "train R2: 0.970\n"
     ]
    },
    {
     "data": {
      "image/png": "[encoded data removed]",
      "text/plain": [
       "<Figure size 400x400 with 1 Axes>"
      ]
     },
     "metadata": {},
     "output_type": "display_data"
    },
    {
     "data": {
      "image/png": "[encoded data removed]",
      "text/plain": [
       "<Figure size 600x500 with 4 Axes>"
      ]
     },
     "metadata": {},
     "output_type": "display_data"
    }
   ],
   "source": [
    "steps = [\n",
    "  ('rescale', MinMaxScaler()),\n",
    "  ('rf', RandomForestRegressor(n_estimators=100, random_state=42))\n",
    "]\n",
    "\n",
    "model = Pipeline(steps)\n",
    "model.fit(X_train, y_train)\n",
    "\n",
    "train_mae, train_mse, train_r2, test_mae, test_mse, test_r2 = train_test_score(model, X_train, y_train, X_test, y_test)\n",
    "\n",
    "df_importance = pd.DataFrame({'feature': X_train.columns,\n",
    "    'importance': model.steps[len(steps)-1][1].feature_importances_})\n",
    "df_importance_sorted = df_importance.sort_values(by='importance', ascending=True)\n",
    "df_importance_sorted.set_index('feature')['importance'].plot(kind='barh', figsize=(4,4), xlabel='Importance',ylabel='', title='Random Forest')\n",
    "plt.grid(which='both')\n",
    "\n",
    "y_train_pred = model.predict(X_train)\n",
    "y_test_pred = model.predict(X_test)\n",
    "visualize_prediction(y_train_pred, train_r2, y_test_pred, test_r2)"
   ]
  },
  {
   "cell_type": "markdown",
   "id": "60a323d6",
   "metadata": {},
   "source": [
    "# 2. XGBoost"
   ]
  },
  {
   "cell_type": "code",
   "execution_count": 3,
   "id": "bd3d1ad4",
   "metadata": {},
   "outputs": [],
   "source": [
    "data_URL = \"H_Emax_data.csv\"\n",
    "df = pd.read_csv(data_URL)\n",
    "\n",
    "features = list(df.columns)\n",
    "target = 'max_energy'\n",
    "features.remove(target)\n",
    "\n",
    "X = df[features]\n",
    "y = df[target]\n",
    "\n",
    "# Split Train, Test (Validation split is done later during training)\n",
    "X_train, X_test, y_train, y_test = train_test_split(X, y, test_size=0.1)"
   ]
  },
  {
   "cell_type": "code",
   "execution_count": 17,
   "id": "fa284032",
   "metadata": {},
   "outputs": [
    {
     "name": "stdout",
     "output_type": "stream",
     "text": [
      "train MAE: 2.13e+00\n",
      "train MSE: 1.66e+01\n",
      "train R2: 0.989\n",
      "-----------\n",
      "train MAE: 2.64e+00\n",
      "train MSE: 3.60e+01\n",
      "train R2: 0.976\n"
     ]
    },
    {
     "data": {
      "image/png": "[encoded data removed]",
      "text/plain": [
       "<Figure size 400x400 with 1 Axes>"
      ]
     },
     "metadata": {},
     "output_type": "display_data"
    },
    {
     "data": {
      "image/png": "[encoded data removed]",
      "text/plain": [
       "<Figure size 600x500 with 4 Axes>"
      ]
     },
     "metadata": {},
     "output_type": "display_data"
    }
   ],
   "source": [
    "steps = [\n",
    "  ('rescale', MinMaxScaler()),\n",
    "  ('xgb', XGBRegressor(random_state=42))\n",
    "]\n",
    "\n",
    "model = Pipeline(steps)\n",
    "model.fit(X_train, y_train)\n",
    "\n",
    "train_mae, train_mse, train_r2, test_mae, test_mse, test_r2 = train_test_score(model, X_train, y_train, X_test, y_test)\n",
    "\n",
    "df_importance = pd.DataFrame({'feature': X_train.columns,\n",
    "    'importance': model.steps[len(steps)-1][1].feature_importances_})\n",
    "df_importance_sorted = df_importance.sort_values(by='importance', ascending=True)\n",
    "df_importance_sorted.set_index('feature')['importance'].plot(kind='barh', figsize=(4,4), xlabel='Importance',ylabel='', title='XGBoost')\n",
    "plt.grid(which='both')\n",
    "\n",
    "y_train_pred = model.predict(X_train)\n",
    "y_test_pred = model.predict(X_test)\n",
    "visualize_prediction(y_train_pred, train_r2, y_test_pred, test_r2)"
   ]
  },
  {
   "cell_type": "markdown",
   "id": "449ace53",
   "metadata": {},
   "source": [
    "# 3. Deep learning "
   ]
  },
  {
   "cell_type": "markdown",
   "id": "50403d44",
   "metadata": {},
   "source": [
    "## Model definition and hyperparameter optimization "
   ]
  },
  {
   "cell_type": "markdown",
   "id": "08fd4805",
   "metadata": {},
   "source": [
    "Here, we will define a fully-connected network model which finds its best architecture and regularization using Keras Tuner. The architecture is optimized first, and then the regularization is done in the same way by using the previously determined architecture."
   ]
  },
  {
   "cell_type": "code",
   "execution_count": 4,
   "id": "82ad9fd4",
   "metadata": {},
   "outputs": [
    {
     "data": {
      "text/html": [
       "<div>\n",
       "<style scoped>\n",
       "    .dataframe tbody tr th:only-of-type {\n",
       "        vertical-align: middle;\n",
       "    }\n",
       "\n",
       "    .dataframe tbody tr th {\n",
       "        vertical-align: top;\n",
       "    }\n",
       "\n",
       "    .dataframe thead th {\n",
       "        text-align: right;\n",
       "    }\n",
       "</style>\n",
       "<table border=\"1\" class=\"dataframe\">\n",
       "  <thead>\n",
       "    <tr style=\"text-align: right;\">\n",
       "      <th></th>\n",
       "      <th>l_energy</th>\n",
       "      <th>l_focal_spot</th>\n",
       "      <th>l_pulse_len</th>\n",
       "      <th>l_pol</th>\n",
       "      <th>l_incident_ang</th>\n",
       "      <th>l_lambda</th>\n",
       "      <th>p_thickness</th>\n",
       "      <th>max_energy</th>\n",
       "    </tr>\n",
       "  </thead>\n",
       "  <tbody>\n",
       "    <tr>\n",
       "      <th>0</th>\n",
       "      <td>9.545334</td>\n",
       "      <td>0.000015</td>\n",
       "      <td>1.077861e-13</td>\n",
       "      <td>1.0</td>\n",
       "      <td>45.881761</td>\n",
       "      <td>7.000000e-07</td>\n",
       "      <td>2.000000e-06</td>\n",
       "      <td>6.416713</td>\n",
       "    </tr>\n",
       "    <tr>\n",
       "      <th>1</th>\n",
       "      <td>8.016723</td>\n",
       "      <td>0.000009</td>\n",
       "      <td>4.399976e-14</td>\n",
       "      <td>1.0</td>\n",
       "      <td>59.937871</td>\n",
       "      <td>6.700000e-07</td>\n",
       "      <td>1.000000e-06</td>\n",
       "      <td>0.302543</td>\n",
       "    </tr>\n",
       "    <tr>\n",
       "      <th>2</th>\n",
       "      <td>45.828714</td>\n",
       "      <td>0.000010</td>\n",
       "      <td>7.900063e-14</td>\n",
       "      <td>0.0</td>\n",
       "      <td>35.452565</td>\n",
       "      <td>8.500000e-07</td>\n",
       "      <td>1.500000e-06</td>\n",
       "      <td>14.347128</td>\n",
       "    </tr>\n",
       "    <tr>\n",
       "      <th>3</th>\n",
       "      <td>0.834122</td>\n",
       "      <td>0.000016</td>\n",
       "      <td>6.632813e-14</td>\n",
       "      <td>0.0</td>\n",
       "      <td>35.186522</td>\n",
       "      <td>9.800000e-07</td>\n",
       "      <td>6.000000e-07</td>\n",
       "      <td>0.041290</td>\n",
       "    </tr>\n",
       "    <tr>\n",
       "      <th>4</th>\n",
       "      <td>2.939410</td>\n",
       "      <td>0.000009</td>\n",
       "      <td>1.808213e-14</td>\n",
       "      <td>0.0</td>\n",
       "      <td>10.175063</td>\n",
       "      <td>8.500000e-07</td>\n",
       "      <td>1.500000e-06</td>\n",
       "      <td>3.193800</td>\n",
       "    </tr>\n",
       "  </tbody>\n",
       "</table>\n",
       "</div>"
      ],
      "text/plain": [
       "    l_energy  l_focal_spot   l_pulse_len  l_pol  l_incident_ang      l_lambda  \\\n",
       "0   9.545334      0.000015  1.077861e-13    1.0       45.881761  7.000000e-07   \n",
       "1   8.016723      0.000009  4.399976e-14    1.0       59.937871  6.700000e-07   \n",
       "2  45.828714      0.000010  7.900063e-14    0.0       35.452565  8.500000e-07   \n",
       "3   0.834122      0.000016  6.632813e-14    0.0       35.186522  9.800000e-07   \n",
       "4   2.939410      0.000009  1.808213e-14    0.0       10.175063  8.500000e-07   \n",
       "\n",
       "    p_thickness  max_energy  \n",
       "0  2.000000e-06    6.416713  \n",
       "1  1.000000e-06    0.302543  \n",
       "2  1.500000e-06   14.347128  \n",
       "3  6.000000e-07    0.041290  \n",
       "4  1.500000e-06    3.193800  "
      ]
     },
     "execution_count": 4,
     "metadata": {},
     "output_type": "execute_result"
    }
   ],
   "source": [
    "data_URL = \"H_Emax_data.csv\"\n",
    "df = pd.read_csv(data_URL)\n",
    "df.head()"
   ]
  },
  {
   "cell_type": "code",
   "execution_count": 5,
   "id": "5f41102c",
   "metadata": {},
   "outputs": [
    {
     "data": {
      "text/plain": [
       "(74517, 8)"
      ]
     },
     "execution_count": 5,
     "metadata": {},
     "output_type": "execute_result"
    }
   ],
   "source": [
    "df.shape"
   ]
  },
  {
   "cell_type": "code",
   "execution_count": 6,
   "id": "6234dd0b",
   "metadata": {},
   "outputs": [],
   "source": [
    "# Convert data to a numpy array\n",
    "data = df.to_numpy()"
   ]
  },
  {
   "cell_type": "code",
   "execution_count": 7,
   "id": "369720b8",
   "metadata": {},
   "outputs": [],
   "source": [
    "# extract features (laser & plasma parameters) and \n",
    "# target (max cutoff energy in the proton beam spectrum)\n",
    "x = data[:,:7]\n",
    "y = data[:,-1]\n",
    "y = y.reshape((-1,1))"
   ]
  },
  {
   "cell_type": "code",
   "execution_count": 8,
   "id": "6d6ac07f",
   "metadata": {},
   "outputs": [],
   "source": [
    "\"\"\"\n",
    "Scale features by using the maximum values defined in the sample space.\n",
    "\"\"\"\n",
    "x[:, 0] = x[:, 0] / 50 # Energy\n",
    "x[:, 1] = x[:, 1] / 20e-6 # Focus-FWHM\n",
    "x[:, 2] = x[:, 2] / 150e-15 # Pulse length\n",
    "# x[:, 3]  # laser polarization (0,1), no need to rescale\n",
    "x[:, 4] = x[:, 4] / 85 # Incidence angle\n",
    "x[:, 5] = x[:, 5] / 1100e-9 # Wavelength\n",
    "x[:, 6] = x[:, 6] / 3e-6 # Target thickness"
   ]
  },
  {
   "cell_type": "code",
   "execution_count": 9,
   "id": "a129b031",
   "metadata": {},
   "outputs": [],
   "source": [
    "# Split Train, Test (Validation split is done later during training)\n",
    "x_train, x_test, y_train, y_test = train_test_split(x, y, test_size=0.1)"
   ]
  },
  {
   "cell_type": "code",
   "execution_count": 10,
   "id": "5e56e581",
   "metadata": {},
   "outputs": [
    {
     "data": {
      "text/plain": [
       "((67065, 7), (7452, 7))"
      ]
     },
     "execution_count": 10,
     "metadata": {},
     "output_type": "execute_result"
    }
   ],
   "source": [
    "x_train.shape, x_test.shape"
   ]
  },
  {
   "cell_type": "code",
   "execution_count": 15,
   "id": "4031966e",
   "metadata": {},
   "outputs": [],
   "source": [
    "l1 = keras.regularizers.l1(l1=1e-9)\n",
    "l2 = keras.regularizers.l2(l2=5e-9)\n",
    "\n",
    "best_model_savepath = 'H_Emax_best_model.h5'\n",
    "\n",
    "callbacks = [\n",
    "    # Saves the model to filepath whenever the validation loss improves.\n",
    "    # Only the best model (lowest val_loss) is saved.\n",
    "    keras.callbacks.ModelCheckpoint(\n",
    "        filepath=best_model_savepath, save_best_only=True, monitor=\"val_loss\"\n",
    "    ),\n",
    "    # write raining logs to log_dir, \n",
    "    # which Lets you visualize: \n",
    "    # Loss/metrics over epochs, Learning rate, Computational graph\n",
    "    tf.keras.callbacks.TensorBoard(log_dir=\"./logs\"), \n",
    "    # Monitors val_loss. If val_loss doesn’t improve for 2 epochs, \n",
    "    # it reduces the learning rate (lr) by a factor of 0.5.\n",
    "    # Won’t reduce below min_lr=0.0001.\n",
    "    # Purpose: Prevents the optimizer from overshooting local minima.\n",
    "    # - Lets you start with a higher learning rate (fast convergence), then fine-tune.\n",
    "    keras.callbacks.ReduceLROnPlateau(\n",
    "        monitor=\"val_loss\", factor=0.5, patience=2, min_lr=0.0001\n",
    "    ),  \n",
    "    # Stops training early if val_loss doesn't improve for 3 consecutive epochs.\n",
    "    # NOTICE: - This won’t stop the hyperparameter tuning — just the training of the current model.\n",
    "    # Purpose: - Prevents overfitting and saves training time.\n",
    "    keras.callbacks.EarlyStopping(monitor=\"val_loss\", patience=3, verbose=1),\n",
    "]\n"
   ]
  },
  {
   "cell_type": "code",
   "execution_count": 16,
   "id": "36acd606",
   "metadata": {},
   "outputs": [
    {
     "name": "stdout",
     "output_type": "stream",
     "text": [
      "INFO:tensorflow:Using MirroredStrategy with devices ('/job:localhost/replica:0/task:0/device:CPU:0',)\n"
     ]
    },
    {
     "data": {
      "text/html": [
       "<pre style=\"white-space:pre;overflow-x:auto;line-height:normal;font-family:Menlo,'DejaVu Sans Mono',consolas,'Courier New',monospace\"><span style=\"font-weight: bold\">Model: \"functional\"</span>\n",
       "</pre>\n"
      ],
      "text/plain": [
       "\u001b[1mModel: \"functional\"\u001b[0m\n"
      ]
     },
     "metadata": {},
     "output_type": "display_data"
    },
    {
     "data": {
      "text/html": [
       "<pre style=\"white-space:pre;overflow-x:auto;line-height:normal;font-family:Menlo,'DejaVu Sans Mono',consolas,'Courier New',monospace\">┏━━━━━━━━━━━━━━━━━━━━━━━━━━━━━━━━━┳━━━━━━━━━━━━━━━━━━━━━━━━┳━━━━━━━━━━━━━━━┓\n",
       "┃<span style=\"font-weight: bold\"> Layer (type)                    </span>┃<span style=\"font-weight: bold\"> Output Shape           </span>┃<span style=\"font-weight: bold\">       Param # </span>┃\n",
       "┡━━━━━━━━━━━━━━━━━━━━━━━━━━━━━━━━━╇━━━━━━━━━━━━━━━━━━━━━━━━╇━━━━━━━━━━━━━━━┩\n",
       "│ input_layer (<span style=\"color: #0087ff; text-decoration-color: #0087ff\">InputLayer</span>)        │ (<span style=\"color: #00d7ff; text-decoration-color: #00d7ff\">None</span>, <span style=\"color: #00af00; text-decoration-color: #00af00\">7</span>)              │             <span style=\"color: #00af00; text-decoration-color: #00af00\">0</span> │\n",
       "├─────────────────────────────────┼────────────────────────┼───────────────┤\n",
       "│ dense (<span style=\"color: #0087ff; text-decoration-color: #0087ff\">Dense</span>)                   │ (<span style=\"color: #00d7ff; text-decoration-color: #00d7ff\">None</span>, <span style=\"color: #00af00; text-decoration-color: #00af00\">32</span>)             │           <span style=\"color: #00af00; text-decoration-color: #00af00\">256</span> │\n",
       "├─────────────────────────────────┼────────────────────────┼───────────────┤\n",
       "│ dense_1 (<span style=\"color: #0087ff; text-decoration-color: #0087ff\">Dense</span>)                 │ (<span style=\"color: #00d7ff; text-decoration-color: #00d7ff\">None</span>, <span style=\"color: #00af00; text-decoration-color: #00af00\">32</span>)             │         <span style=\"color: #00af00; text-decoration-color: #00af00\">1,056</span> │\n",
       "├─────────────────────────────────┼────────────────────────┼───────────────┤\n",
       "│ dense_2 (<span style=\"color: #0087ff; text-decoration-color: #0087ff\">Dense</span>)                 │ (<span style=\"color: #00d7ff; text-decoration-color: #00d7ff\">None</span>, <span style=\"color: #00af00; text-decoration-color: #00af00\">32</span>)             │         <span style=\"color: #00af00; text-decoration-color: #00af00\">1,056</span> │\n",
       "├─────────────────────────────────┼────────────────────────┼───────────────┤\n",
       "│ dense_3 (<span style=\"color: #0087ff; text-decoration-color: #0087ff\">Dense</span>)                 │ (<span style=\"color: #00d7ff; text-decoration-color: #00d7ff\">None</span>, <span style=\"color: #00af00; text-decoration-color: #00af00\">32</span>)             │         <span style=\"color: #00af00; text-decoration-color: #00af00\">1,056</span> │\n",
       "├─────────────────────────────────┼────────────────────────┼───────────────┤\n",
       "│ dense_4 (<span style=\"color: #0087ff; text-decoration-color: #0087ff\">Dense</span>)                 │ (<span style=\"color: #00d7ff; text-decoration-color: #00d7ff\">None</span>, <span style=\"color: #00af00; text-decoration-color: #00af00\">1</span>)              │            <span style=\"color: #00af00; text-decoration-color: #00af00\">33</span> │\n",
       "└─────────────────────────────────┴────────────────────────┴───────────────┘\n",
       "</pre>\n"
      ],
      "text/plain": [
       "┏━━━━━━━━━━━━━━━━━━━━━━━━━━━━━━━━━┳━━━━━━━━━━━━━━━━━━━━━━━━┳━━━━━━━━━━━━━━━┓\n",
       "┃\u001b[1m \u001b[0m\u001b[1mLayer (type)                   \u001b[0m\u001b[1m \u001b[0m┃\u001b[1m \u001b[0m\u001b[1mOutput Shape          \u001b[0m\u001b[1m \u001b[0m┃\u001b[1m \u001b[0m\u001b[1m      Param #\u001b[0m\u001b[1m \u001b[0m┃\n",
       "┡━━━━━━━━━━━━━━━━━━━━━━━━━━━━━━━━━╇━━━━━━━━━━━━━━━━━━━━━━━━╇━━━━━━━━━━━━━━━┩\n",
       "│ input_layer (\u001b[38;5;33mInputLayer\u001b[0m)        │ (\u001b[38;5;45mNone\u001b[0m, \u001b[38;5;34m7\u001b[0m)              │             \u001b[38;5;34m0\u001b[0m │\n",
       "├─────────────────────────────────┼────────────────────────┼───────────────┤\n",
       "│ dense (\u001b[38;5;33mDense\u001b[0m)                   │ (\u001b[38;5;45mNone\u001b[0m, \u001b[38;5;34m32\u001b[0m)             │           \u001b[38;5;34m256\u001b[0m │\n",
       "├─────────────────────────────────┼────────────────────────┼───────────────┤\n",
       "│ dense_1 (\u001b[38;5;33mDense\u001b[0m)                 │ (\u001b[38;5;45mNone\u001b[0m, \u001b[38;5;34m32\u001b[0m)             │         \u001b[38;5;34m1,056\u001b[0m │\n",
       "├─────────────────────────────────┼────────────────────────┼───────────────┤\n",
       "│ dense_2 (\u001b[38;5;33mDense\u001b[0m)                 │ (\u001b[38;5;45mNone\u001b[0m, \u001b[38;5;34m32\u001b[0m)             │         \u001b[38;5;34m1,056\u001b[0m │\n",
       "├─────────────────────────────────┼────────────────────────┼───────────────┤\n",
       "│ dense_3 (\u001b[38;5;33mDense\u001b[0m)                 │ (\u001b[38;5;45mNone\u001b[0m, \u001b[38;5;34m32\u001b[0m)             │         \u001b[38;5;34m1,056\u001b[0m │\n",
       "├─────────────────────────────────┼────────────────────────┼───────────────┤\n",
       "│ dense_4 (\u001b[38;5;33mDense\u001b[0m)                 │ (\u001b[38;5;45mNone\u001b[0m, \u001b[38;5;34m1\u001b[0m)              │            \u001b[38;5;34m33\u001b[0m │\n",
       "└─────────────────────────────────┴────────────────────────┴───────────────┘\n"
      ]
     },
     "metadata": {},
     "output_type": "display_data"
    },
    {
     "data": {
      "text/html": [
       "<pre style=\"white-space:pre;overflow-x:auto;line-height:normal;font-family:Menlo,'DejaVu Sans Mono',consolas,'Courier New',monospace\"><span style=\"font-weight: bold\"> Total params: </span><span style=\"color: #00af00; text-decoration-color: #00af00\">3,457</span> (13.50 KB)\n",
       "</pre>\n"
      ],
      "text/plain": [
       "\u001b[1m Total params: \u001b[0m\u001b[38;5;34m3,457\u001b[0m (13.50 KB)\n"
      ]
     },
     "metadata": {},
     "output_type": "display_data"
    },
    {
     "data": {
      "text/html": [
       "<pre style=\"white-space:pre;overflow-x:auto;line-height:normal;font-family:Menlo,'DejaVu Sans Mono',consolas,'Courier New',monospace\"><span style=\"font-weight: bold\"> Trainable params: </span><span style=\"color: #00af00; text-decoration-color: #00af00\">3,457</span> (13.50 KB)\n",
       "</pre>\n"
      ],
      "text/plain": [
       "\u001b[1m Trainable params: \u001b[0m\u001b[38;5;34m3,457\u001b[0m (13.50 KB)\n"
      ]
     },
     "metadata": {},
     "output_type": "display_data"
    },
    {
     "data": {
      "text/html": [
       "<pre style=\"white-space:pre;overflow-x:auto;line-height:normal;font-family:Menlo,'DejaVu Sans Mono',consolas,'Courier New',monospace\"><span style=\"font-weight: bold\"> Non-trainable params: </span><span style=\"color: #00af00; text-decoration-color: #00af00\">0</span> (0.00 B)\n",
       "</pre>\n"
      ],
      "text/plain": [
       "\u001b[1m Non-trainable params: \u001b[0m\u001b[38;5;34m0\u001b[0m (0.00 B)\n"
      ]
     },
     "metadata": {},
     "output_type": "display_data"
    }
   ],
   "source": [
    "# This creates an instance of the `HyperParameters` class. This object is used to define and manage the search space for hyperparameters during tuning.\n",
    "HPS = keras_tuner.HyperParameters()\n",
    "\n",
    "# find best architecture\n",
    "\n",
    "# During tuning, keras_tuner will try values like 5, 6, 7, or 8 for the number of layers in the neural network to find which performs best.\n",
    "HPS.Int(\"num_layers\", 4, 6, default=4)\n",
    "\n",
    "# This loop defines **8 separate hyperparameters**: `\"units_0\"`, `\"units_1\"`, ..., `\"units_7\"`.\n",
    "# Each one represents the number of units (neurons) in a potential layer of the model and is:\n",
    "# - An integer between 128 and 512,\n",
    "# - With step size of 32 (i.e., values could be 128, 160, 192, ..., 512).\n",
    "# - If `num_layers` = 5,\n",
    "# - Then the model may use `units_0` to `units_4` only.\n",
    "# These values will later be used when building a model in a `build_model(hp)` function during the hyperparameter search process.\n",
    "for i in range(6):\n",
    "    HPS.Int(\"units_\" + str(i), min_value=32, max_value=128, step=32)\n",
    "\n",
    "\n",
    "# defines a neural network model whose architecture is dynamically built using hyperparameters. \n",
    "# It is meant to be used with Keras Tuner to search for the best model structure\n",
    "def build_model(hp):\n",
    "    # - Creates the **input layer**.\n",
    "    # - The input shape matches the number of features (columns) in the training data `x_train`.\n",
    "    input_layer = keras.layers.Input(shape=(x_train.shape[1],))\n",
    "    # Initializes a variable layer to point to the current layer in the model — initially the input layer.\n",
    "    # This is the base for adding more layers on top.\n",
    "    layer = input_layer\n",
    "\n",
    "    # - Adds a series of `Dense` (fully connected) layers on top of each other.\n",
    "    # - Number of layers is defined by `hp.get(\"num_layers\")` (tuned between 5–8).\n",
    "    # - Each layer’s number of units is also a tunable hyperparameter: `\"units_0\"`, `\"units_1\"`, ..., as defined earlier.\n",
    "    # - Each hidden layer uses the **ReLU** activation function.\n",
    "    for i in range(hp.get(\"num_layers\")):\n",
    "        layer = keras.layers.Dense(units=hp.get(\"units_\" + str(i)), activation=\"relu\")(\n",
    "            layer\n",
    "        )\n",
    "\n",
    "    # Adds the output layer.\n",
    "    # Number of output units matches the number of target variables (i.e., number of columns in y_train).\n",
    "    # No activation is specified — which is appropriate for regression tasks (e.g., predicting continuous values).\n",
    "    output_layer = keras.layers.Dense(y_train.shape[1])(layer)\n",
    "\n",
    "    # - Constructs the full model from input to output.\n",
    "    model = keras.models.Model(inputs=input_layer, outputs=output_layer)\n",
    "    # Optimizer: Adam (adaptive optimizer commonly used).\n",
    "    # Loss: Mean Squared Error — good for regression problems.\n",
    "    # Metrics: Also using MSE to monitor performance.\n",
    "    model.compile(\n",
    "        optimizer=\"adam\",\n",
    "        loss=keras.losses.MeanSquaredError(),\n",
    "        metrics=[keras.metrics.MeanSquaredError()],\n",
    "    )\n",
    "    # - Prints the model architecture to the console/logs.\n",
    "    model.summary()\n",
    "    # Returns the compiled model to Keras Tuner for training and evaluation with specific hyperparameters.\n",
    "    return model\n",
    "\n",
    "# This enables multi-GPU training by distributing the model across all available GPUs on the same machine.\n",
    "# MirroredStrategy mirrors the model’s variables on each GPU device.\n",
    "# Each GPU processes a portion of the batch (called data parallelism).\n",
    "# Gradients from each GPU are synchronized and averaged.\n",
    "# If you don’t have multiple GPUs, it still works (with one GPU or even CPU), but won’t speed up training.\n",
    "distribution_strategy = tf.distribute.MirroredStrategy()\n",
    "\n",
    "# This initializes the **Bayesian Optimization search** for hyperparameters using Keras Tuner.\n",
    "# Grid Search\tTries all combinations (slow, inefficient)\n",
    "# Random Search\tTries random combinations uniformly\n",
    "# Bayesian Opt.\tTries smart combinations using knowledge from past trials\n",
    "tuner = BayesianOptimization(\n",
    "    build_model, # The model-building function defined earlier\n",
    "    objective=\"val_mean_squared_error\", # The metric to minimize during tuning (validation MSE).\n",
    "    hyperparameters=HPS, # The `HyperParameters` object defining the search space.\n",
    "    max_trials=10, # Try at most xx different sets of hyperparameters. \n",
    "    executions_per_trial=10, # For each trial (i.e., hyperparameter set), train and evaluate the model **10 \n",
    "                              # times** (with the same training/validation split), and then averages the performance metric (e.g. validation MSE) across the 10 runs. \n",
    "                              # Purpose: Reduce randomness from weight initialization, stochastic training, etc.\n",
    "                              # Different from 10-fold cross validation which split the train dataset into 10 different train/validation splits.\n",
    "    max_consecutive_failed_trials=10, # stop the tuning  if xx trials in a row fail (e.g., bad hyperparams)\n",
    "    overwrite=False, # `False`: resumes from existing tuning logs if they exist; `True`: starts fresh.\n",
    "    directory='.', # Where to store tuning logs and saved models \n",
    "    project_name='trials', # Folder name to save results \n",
    ")"
   ]
  },
  {
   "cell_type": "code",
   "execution_count": 17,
   "id": "f8ac04d4",
   "metadata": {
    "scrolled": true
   },
   "outputs": [
    {
     "name": "stdout",
     "output_type": "stream",
     "text": [
      "Trial 10 Complete [00h 02m 03s]\n",
      "val_mean_squared_error: 25.66765594482422\n",
      "\n",
      "Best val_mean_squared_error So Far: 25.66765594482422\n",
      "Total elapsed time: 00h 15m 55s\n"
     ]
    }
   ],
   "source": [
    "# Prints a summary of the hyperparameter search space \n",
    "tuner.search_space_summary()\n",
    "\n",
    "batch_size = 256\n",
    "epochs = 1000\n",
    "\n",
    "# actual hyperparameter tuning\n",
    "tuner.search(\n",
    "    x_train,\n",
    "    y_train,\n",
    "    # batch size for training\n",
    "    batch_size=batch_size,\n",
    "    # Maximum number of epochs to train per model.\n",
    "    # Actual training may stop early if EarlyStopping is in callbacks.\n",
    "    epochs=epochs,\n",
    "    # Keras callbacks to control training. \n",
    "    # Example: EarlyStopping, ReduceLROnPlateau, ModelCheckpoint.\n",
    "    callbacks=callbacks, \n",
    "    # further split a portion of the train set to be used for validation\n",
    "    validation_split=0.1,  \n",
    ")"
   ]
  },
  {
   "cell_type": "code",
   "execution_count": 18,
   "id": "2d3f1741",
   "metadata": {},
   "outputs": [
    {
     "name": "stdout",
     "output_type": "stream",
     "text": [
      "Results summary\n",
      "Results in ./trials\n",
      "Showing 1 best trials\n",
      "Objective(name=\"val_mean_squared_error\", direction=\"min\")\n",
      "\n",
      "Trial 09 summary\n",
      "Hyperparameters:\n",
      "num_layers: 6\n",
      "units_0: 128\n",
      "units_1: 64\n",
      "units_2: 96\n",
      "units_3: 96\n",
      "units_4: 128\n",
      "units_5: 128\n",
      "Score: 25.66765594482422\n"
     ]
    },
    {
     "data": {
      "text/html": [
       "<pre style=\"white-space:pre;overflow-x:auto;line-height:normal;font-family:Menlo,'DejaVu Sans Mono',consolas,'Courier New',monospace\"><span style=\"font-weight: bold\">Model: \"functional\"</span>\n",
       "</pre>\n"
      ],
      "text/plain": [
       "\u001b[1mModel: \"functional\"\u001b[0m\n"
      ]
     },
     "metadata": {},
     "output_type": "display_data"
    },
    {
     "data": {
      "text/html": [
       "<pre style=\"white-space:pre;overflow-x:auto;line-height:normal;font-family:Menlo,'DejaVu Sans Mono',consolas,'Courier New',monospace\">┏━━━━━━━━━━━━━━━━━━━━━━━━━━━━━━━━━┳━━━━━━━━━━━━━━━━━━━━━━━━┳━━━━━━━━━━━━━━━┓\n",
       "┃<span style=\"font-weight: bold\"> Layer (type)                    </span>┃<span style=\"font-weight: bold\"> Output Shape           </span>┃<span style=\"font-weight: bold\">       Param # </span>┃\n",
       "┡━━━━━━━━━━━━━━━━━━━━━━━━━━━━━━━━━╇━━━━━━━━━━━━━━━━━━━━━━━━╇━━━━━━━━━━━━━━━┩\n",
       "│ input_layer (<span style=\"color: #0087ff; text-decoration-color: #0087ff\">InputLayer</span>)        │ (<span style=\"color: #00d7ff; text-decoration-color: #00d7ff\">None</span>, <span style=\"color: #00af00; text-decoration-color: #00af00\">7</span>)              │             <span style=\"color: #00af00; text-decoration-color: #00af00\">0</span> │\n",
       "├─────────────────────────────────┼────────────────────────┼───────────────┤\n",
       "│ dense (<span style=\"color: #0087ff; text-decoration-color: #0087ff\">Dense</span>)                   │ (<span style=\"color: #00d7ff; text-decoration-color: #00d7ff\">None</span>, <span style=\"color: #00af00; text-decoration-color: #00af00\">128</span>)            │         <span style=\"color: #00af00; text-decoration-color: #00af00\">1,024</span> │\n",
       "├─────────────────────────────────┼────────────────────────┼───────────────┤\n",
       "│ dense_1 (<span style=\"color: #0087ff; text-decoration-color: #0087ff\">Dense</span>)                 │ (<span style=\"color: #00d7ff; text-decoration-color: #00d7ff\">None</span>, <span style=\"color: #00af00; text-decoration-color: #00af00\">64</span>)             │         <span style=\"color: #00af00; text-decoration-color: #00af00\">8,256</span> │\n",
       "├─────────────────────────────────┼────────────────────────┼───────────────┤\n",
       "│ dense_2 (<span style=\"color: #0087ff; text-decoration-color: #0087ff\">Dense</span>)                 │ (<span style=\"color: #00d7ff; text-decoration-color: #00d7ff\">None</span>, <span style=\"color: #00af00; text-decoration-color: #00af00\">96</span>)             │         <span style=\"color: #00af00; text-decoration-color: #00af00\">6,240</span> │\n",
       "├─────────────────────────────────┼────────────────────────┼───────────────┤\n",
       "│ dense_3 (<span style=\"color: #0087ff; text-decoration-color: #0087ff\">Dense</span>)                 │ (<span style=\"color: #00d7ff; text-decoration-color: #00d7ff\">None</span>, <span style=\"color: #00af00; text-decoration-color: #00af00\">96</span>)             │         <span style=\"color: #00af00; text-decoration-color: #00af00\">9,312</span> │\n",
       "├─────────────────────────────────┼────────────────────────┼───────────────┤\n",
       "│ dense_4 (<span style=\"color: #0087ff; text-decoration-color: #0087ff\">Dense</span>)                 │ (<span style=\"color: #00d7ff; text-decoration-color: #00d7ff\">None</span>, <span style=\"color: #00af00; text-decoration-color: #00af00\">128</span>)            │        <span style=\"color: #00af00; text-decoration-color: #00af00\">12,416</span> │\n",
       "├─────────────────────────────────┼────────────────────────┼───────────────┤\n",
       "│ dense_5 (<span style=\"color: #0087ff; text-decoration-color: #0087ff\">Dense</span>)                 │ (<span style=\"color: #00d7ff; text-decoration-color: #00d7ff\">None</span>, <span style=\"color: #00af00; text-decoration-color: #00af00\">128</span>)            │        <span style=\"color: #00af00; text-decoration-color: #00af00\">16,512</span> │\n",
       "├─────────────────────────────────┼────────────────────────┼───────────────┤\n",
       "│ dense_6 (<span style=\"color: #0087ff; text-decoration-color: #0087ff\">Dense</span>)                 │ (<span style=\"color: #00d7ff; text-decoration-color: #00d7ff\">None</span>, <span style=\"color: #00af00; text-decoration-color: #00af00\">1</span>)              │           <span style=\"color: #00af00; text-decoration-color: #00af00\">129</span> │\n",
       "└─────────────────────────────────┴────────────────────────┴───────────────┘\n",
       "</pre>\n"
      ],
      "text/plain": [
       "┏━━━━━━━━━━━━━━━━━━━━━━━━━━━━━━━━━┳━━━━━━━━━━━━━━━━━━━━━━━━┳━━━━━━━━━━━━━━━┓\n",
       "┃\u001b[1m \u001b[0m\u001b[1mLayer (type)                   \u001b[0m\u001b[1m \u001b[0m┃\u001b[1m \u001b[0m\u001b[1mOutput Shape          \u001b[0m\u001b[1m \u001b[0m┃\u001b[1m \u001b[0m\u001b[1m      Param #\u001b[0m\u001b[1m \u001b[0m┃\n",
       "┡━━━━━━━━━━━━━━━━━━━━━━━━━━━━━━━━━╇━━━━━━━━━━━━━━━━━━━━━━━━╇━━━━━━━━━━━━━━━┩\n",
       "│ input_layer (\u001b[38;5;33mInputLayer\u001b[0m)        │ (\u001b[38;5;45mNone\u001b[0m, \u001b[38;5;34m7\u001b[0m)              │             \u001b[38;5;34m0\u001b[0m │\n",
       "├─────────────────────────────────┼────────────────────────┼───────────────┤\n",
       "│ dense (\u001b[38;5;33mDense\u001b[0m)                   │ (\u001b[38;5;45mNone\u001b[0m, \u001b[38;5;34m128\u001b[0m)            │         \u001b[38;5;34m1,024\u001b[0m │\n",
       "├─────────────────────────────────┼────────────────────────┼───────────────┤\n",
       "│ dense_1 (\u001b[38;5;33mDense\u001b[0m)                 │ (\u001b[38;5;45mNone\u001b[0m, \u001b[38;5;34m64\u001b[0m)             │         \u001b[38;5;34m8,256\u001b[0m │\n",
       "├─────────────────────────────────┼────────────────────────┼───────────────┤\n",
       "│ dense_2 (\u001b[38;5;33mDense\u001b[0m)                 │ (\u001b[38;5;45mNone\u001b[0m, \u001b[38;5;34m96\u001b[0m)             │         \u001b[38;5;34m6,240\u001b[0m │\n",
       "├─────────────────────────────────┼────────────────────────┼───────────────┤\n",
       "│ dense_3 (\u001b[38;5;33mDense\u001b[0m)                 │ (\u001b[38;5;45mNone\u001b[0m, \u001b[38;5;34m96\u001b[0m)             │         \u001b[38;5;34m9,312\u001b[0m │\n",
       "├─────────────────────────────────┼────────────────────────┼───────────────┤\n",
       "│ dense_4 (\u001b[38;5;33mDense\u001b[0m)                 │ (\u001b[38;5;45mNone\u001b[0m, \u001b[38;5;34m128\u001b[0m)            │        \u001b[38;5;34m12,416\u001b[0m │\n",
       "├─────────────────────────────────┼────────────────────────┼───────────────┤\n",
       "│ dense_5 (\u001b[38;5;33mDense\u001b[0m)                 │ (\u001b[38;5;45mNone\u001b[0m, \u001b[38;5;34m128\u001b[0m)            │        \u001b[38;5;34m16,512\u001b[0m │\n",
       "├─────────────────────────────────┼────────────────────────┼───────────────┤\n",
       "│ dense_6 (\u001b[38;5;33mDense\u001b[0m)                 │ (\u001b[38;5;45mNone\u001b[0m, \u001b[38;5;34m1\u001b[0m)              │           \u001b[38;5;34m129\u001b[0m │\n",
       "└─────────────────────────────────┴────────────────────────┴───────────────┘\n"
      ]
     },
     "metadata": {},
     "output_type": "display_data"
    },
    {
     "data": {
      "text/html": [
       "<pre style=\"white-space:pre;overflow-x:auto;line-height:normal;font-family:Menlo,'DejaVu Sans Mono',consolas,'Courier New',monospace\"><span style=\"font-weight: bold\"> Total params: </span><span style=\"color: #00af00; text-decoration-color: #00af00\">53,889</span> (210.50 KB)\n",
       "</pre>\n"
      ],
      "text/plain": [
       "\u001b[1m Total params: \u001b[0m\u001b[38;5;34m53,889\u001b[0m (210.50 KB)\n"
      ]
     },
     "metadata": {},
     "output_type": "display_data"
    },
    {
     "data": {
      "text/html": [
       "<pre style=\"white-space:pre;overflow-x:auto;line-height:normal;font-family:Menlo,'DejaVu Sans Mono',consolas,'Courier New',monospace\"><span style=\"font-weight: bold\"> Trainable params: </span><span style=\"color: #00af00; text-decoration-color: #00af00\">53,889</span> (210.50 KB)\n",
       "</pre>\n"
      ],
      "text/plain": [
       "\u001b[1m Trainable params: \u001b[0m\u001b[38;5;34m53,889\u001b[0m (210.50 KB)\n"
      ]
     },
     "metadata": {},
     "output_type": "display_data"
    },
    {
     "data": {
      "text/html": [
       "<pre style=\"white-space:pre;overflow-x:auto;line-height:normal;font-family:Menlo,'DejaVu Sans Mono',consolas,'Courier New',monospace\"><span style=\"font-weight: bold\"> Non-trainable params: </span><span style=\"color: #00af00; text-decoration-color: #00af00\">0</span> (0.00 B)\n",
       "</pre>\n"
      ],
      "text/plain": [
       "\u001b[1m Non-trainable params: \u001b[0m\u001b[38;5;34m0\u001b[0m (0.00 B)\n"
      ]
     },
     "metadata": {},
     "output_type": "display_data"
    },
    {
     "name": "stderr",
     "output_type": "stream",
     "text": [
      "/opt/anaconda3/lib/python3.12/site-packages/keras/src/saving/saving_lib.py:757: UserWarning: Skipping variable loading for optimizer 'adam', because it has 2 variables whereas the saved optimizer has 30 variables. \n",
      "  saveable.load_own_variables(weights_store.get(inner_path))\n"
     ]
    }
   ],
   "source": [
    "tuner.results_summary(1)\n",
    "best_model = tuner.get_best_models(1)[0]\n",
    "best_hyperparameters = tuner.get_best_hyperparameters(1)[0]\n",
    "\n",
    "# References to best trial assets\n",
    "best_trial_id = tuner.oracle.get_best_trials(1)[0].trial_id\n",
    "best_trial_dir = tuner.get_trial_dir(best_trial_id)"
   ]
  },
  {
   "cell_type": "markdown",
   "id": "819e5330",
   "metadata": {},
   "source": [
    "We can now save our best model if we like"
   ]
  },
  {
   "cell_type": "code",
   "execution_count": null,
   "id": "8f92309a",
   "metadata": {},
   "outputs": [],
   "source": [
    "# best_model.save(\"H_Emax_best_model.h5\")"
   ]
  },
  {
   "cell_type": "markdown",
   "id": "380fd161",
   "metadata": {},
   "source": [
    "## Refined tuning with regularization"
   ]
  },
  {
   "cell_type": "markdown",
   "id": "02f3ca7d",
   "metadata": {},
   "source": [
    "To obtain the best model with regularization we re-define the `build_model` function with the architecture that we found from the previous hyperparameter search:"
   ]
  },
  {
   "cell_type": "code",
   "execution_count": 24,
   "id": "c228e0f6",
   "metadata": {},
   "outputs": [
    {
     "data": {
      "text/plain": [
       "1e-09"
      ]
     },
     "execution_count": 24,
     "metadata": {},
     "output_type": "execute_result"
    }
   ],
   "source": [
    "HPS.Float(\"l1_val\", min_value=1e-9, max_value=1.0, sampling=\"log\")\n",
    "HPS.Float(\"l2_val\", min_value=1e-9, max_value=1.0, sampling=\"log\")"
   ]
  },
  {
   "cell_type": "code",
   "execution_count": 25,
   "id": "2a437835",
   "metadata": {},
   "outputs": [],
   "source": [
    "def build_model(hp):\n",
    "    input_layer = keras.layers.Input(x_train.shape[1])\n",
    "    layer = input_layer\n",
    "    layer = keras.layers.Dense(\n",
    "        units=416,\n",
    "        activation=\"relu\",\n",
    "        kernel_regularizer=keras.regularizers.l1_l2(\n",
    "            l1=hp.get(\"l1_val\"), l2=hp.get(\"l2_val\")\n",
    "        ),\n",
    "    )(layer)\n",
    "    layer = keras.layers.Dense(\n",
    "        units=480,\n",
    "        activation=\"relu\",\n",
    "        kernel_regularizer=keras.regularizers.l1_l2(\n",
    "            l1=hp.get(\"l1_val\"), l2=hp.get(\"l2_val\")\n",
    "        ),\n",
    "    )(layer)\n",
    "    layer = keras.layers.Dense(\n",
    "        units=192,\n",
    "        activation=\"relu\",\n",
    "        kernel_regularizer=keras.regularizers.l1_l2(\n",
    "            l1=hp.get(\"l1_val\"), l2=hp.get(\"l2_val\")\n",
    "        ),\n",
    "    )(layer)\n",
    "    layer = keras.layers.Dense(\n",
    "        units=512,\n",
    "        activation=\"relu\",\n",
    "        kernel_regularizer=keras.regularizers.l1_l2(\n",
    "            l1=hp.get(\"l1_val\"), l2=hp.get(\"l2_val\")\n",
    "        ),\n",
    "    )(layer)\n",
    "    layer = keras.layers.Dense(\n",
    "        units=352,\n",
    "        activation=\"relu\",\n",
    "        kernel_regularizer=keras.regularizers.l1_l2(\n",
    "            l1=hp.get(\"l1_val\"), l2=hp.get(\"l2_val\")\n",
    "        ),\n",
    "    )(layer)\n",
    "    layer = keras.layers.Dense(\n",
    "        units=384,\n",
    "        activation=\"relu\",\n",
    "        kernel_regularizer=keras.regularizers.l1_l2(\n",
    "            l1=hp.get(\"l1_val\"), l2=hp.get(\"l2_val\")\n",
    "        ),\n",
    "    )(layer)\n",
    "\n",
    "    output_layer = keras.layers.Dense(y_train.shape[1])(layer)\n",
    "\n",
    "    model = keras.models.Model(inputs=input_layer, outputs=output_layer)\n",
    "    model.compile(\n",
    "        optimizer=\"adam\",\n",
    "        loss=keras.losses.MeanSquaredError(),\n",
    "        metrics=[keras.metrics.MeanSquaredError()],\n",
    "    )\n",
    "    model.summary()\n",
    "    return model"
   ]
  },
  {
   "cell_type": "markdown",
   "id": "bbef3c22",
   "metadata": {},
   "source": [
    "Now we can search the same way as before"
   ]
  },
  {
   "cell_type": "code",
   "execution_count": 26,
   "id": "6b6f97e1",
   "metadata": {
    "scrolled": true
   },
   "outputs": [
    {
     "name": "stdout",
     "output_type": "stream",
     "text": [
      "Trial 21 Complete [00h 15m 34s]\n",
      "val_mean_squared_error: 31.06138381958008\n",
      "\n",
      "Best val_mean_squared_error So Far: 23.50138568878174\n",
      "Total elapsed time: 02h 30m 49s\n"
     ]
    }
   ],
   "source": [
    "tuner.search_space_summary()\n",
    "tuner.search(\n",
    "    x_train,\n",
    "    y_train,\n",
    "    batch_size=batch_size,\n",
    "    epochs=epochs,\n",
    "    callbacks=callbacks,\n",
    "    validation_split=0.1,\n",
    ")"
   ]
  },
  {
   "cell_type": "code",
   "execution_count": null,
   "id": "747d08f6",
   "metadata": {},
   "outputs": [],
   "source": [
    "tuner.results_summary(1)\n",
    "best_model = tuner.get_best_models(1)[0]\n",
    "best_hyperparameters = tuner.get_best_hyperparameters(1)[0]\n",
    "\n",
    "# References to best trial assets\n",
    "best_trial_id = tuner.oracle.get_best_trials(1)[0].trial_id\n",
    "best_trial_dir = tuner.get_trial_dir(best_trial_id)"
   ]
  },
  {
   "cell_type": "markdown",
   "id": "3bbee497",
   "metadata": {},
   "source": [
    "Now we can save our new best model that is fully optimized:"
   ]
  },
  {
   "cell_type": "code",
   "execution_count": null,
   "id": "7d1b41fb",
   "metadata": {},
   "outputs": [],
   "source": [
    "# best_model.save(\"H_Emax_best_model_regularization.h5\")"
   ]
  },
  {
   "cell_type": "markdown",
   "id": "a764bf48",
   "metadata": {},
   "source": [
    "## Model evaluation"
   ]
  },
  {
   "cell_type": "code",
   "execution_count": 4,
   "id": "98ac885c",
   "metadata": {},
   "outputs": [],
   "source": [
    "data_URL = \"H_Emax_data.csv\"\n",
    "df = pd.read_csv(data_URL)\n",
    "\n",
    "# Convert data to a numpy array\n",
    "data = df.to_numpy()\n",
    "\n",
    "# extract features (laser & plasma parameters) and \n",
    "# target (max cutoff energy in the proton beam spectrum)\n",
    "x = data[:,:7]\n",
    "y = data[:,-1]\n",
    "y = y.reshape((-1,1))\n",
    "\n",
    "# Scale features by using the maximum values defined in the sample space.\n",
    "x[:, 0] = x[:, 0] / 50 # Energy\n",
    "x[:, 1] = x[:, 1] / 20e-6 # Focus-FWHM\n",
    "x[:, 2] = x[:, 2] / 150e-15 # Pulse length\n",
    "# x[:, 3]  # laser polarization (0,1), no need to rescale\n",
    "x[:, 4] = x[:, 4] / 85 # Incidence angle\n",
    "x[:, 5] = x[:, 5] / 1100e-9 # Wavelength\n",
    "x[:, 6] = x[:, 6] / 3e-6 # Target thickness\n",
    "\n",
    "# Split Train, Test (Validation split is done later during training)\n",
    "x_train, x_test, y_train, y_test = train_test_split(x, y, test_size=0.1)"
   ]
  },
  {
   "cell_type": "code",
   "execution_count": 5,
   "id": "ceae2b79",
   "metadata": {},
   "outputs": [
    {
     "name": "stderr",
     "output_type": "stream",
     "text": [
      "WARNING:absl:Compiled the loaded model, but the compiled metrics have yet to be built. `model.compile_metrics` will be empty until you train or evaluate the model.\n"
     ]
    }
   ],
   "source": [
    "model_dl = keras.models.load_model(\"H_Emax_best_model.h5\")"
   ]
  },
  {
   "cell_type": "code",
   "execution_count": 12,
   "id": "a1b75e34",
   "metadata": {},
   "outputs": [],
   "source": [
    "model = model_dl"
   ]
  },
  {
   "cell_type": "code",
   "execution_count": 14,
   "id": "27fcd2b7",
   "metadata": {},
   "outputs": [
    {
     "name": "stdout",
     "output_type": "stream",
     "text": [
      "\u001b[1m2096/2096\u001b[0m \u001b[32m━━━━━━━━━━━━━━━━━━━━\u001b[0m\u001b[37m\u001b[0m \u001b[1m1s\u001b[0m 332us/step\n"
     ]
    }
   ],
   "source": [
    "y_train_pred = model.predict(x_train)"
   ]
  },
  {
   "cell_type": "code",
   "execution_count": 15,
   "id": "a87337a2",
   "metadata": {},
   "outputs": [
    {
     "name": "stdout",
     "output_type": "stream",
     "text": [
      "\u001b[1m233/233\u001b[0m \u001b[32m━━━━━━━━━━━━━━━━━━━━\u001b[0m\u001b[37m\u001b[0m \u001b[1m0s\u001b[0m 361us/step\n"
     ]
    }
   ],
   "source": [
    "y_test_pred = model.predict(x_test)"
   ]
  },
  {
   "cell_type": "code",
   "execution_count": 16,
   "id": "f4490b48",
   "metadata": {},
   "outputs": [
    {
     "data": {
      "text/plain": [
       "((67065, 7), (7452, 7))"
      ]
     },
     "execution_count": 16,
     "metadata": {},
     "output_type": "execute_result"
    }
   ],
   "source": [
    "x_train.shape, x_test.shape"
   ]
  },
  {
   "cell_type": "code",
   "execution_count": 33,
   "id": "b08bbdd1",
   "metadata": {},
   "outputs": [
    {
     "name": "stdout",
     "output_type": "stream",
     "text": [
      "\u001b[1m2096/2096\u001b[0m \u001b[32m━━━━━━━━━━━━━━━━━━━━\u001b[0m\u001b[37m\u001b[0m \u001b[1m1s\u001b[0m 297us/step\n",
      "train MAE: 2.23e+00\n",
      "train MSE: 3.11e+01\n",
      "train R2: 0.980\n",
      "-----------\n",
      "\u001b[1m233/233\u001b[0m \u001b[32m━━━━━━━━━━━━━━━━━━━━\u001b[0m\u001b[37m\u001b[0m \u001b[1m0s\u001b[0m 419us/step\n",
      "train MAE: 2.26e+00\n",
      "train MSE: 3.04e+01\n",
      "train R2: 0.981\n"
     ]
    }
   ],
   "source": [
    "y_train_pred = model.predict(x_train)\n",
    "train_mae = mean_absolute_error(y_train, y_train_pred)\n",
    "train_mse = mean_squared_error(y_train, y_train_pred)\n",
    "train_r2 = r2_score(y_train, y_train_pred)\n",
    "print('train MAE: %.2e'%train_mae)\n",
    "print('train MSE: %.2e'%train_mse)\n",
    "print('train R2: %.3f'%train_r2)\n",
    "print('-----------')\n",
    "y_test_pred = model.predict(x_test)\n",
    "test_mae = mean_absolute_error(y_test, y_test_pred)\n",
    "test_mse = mean_squared_error(y_test, y_test_pred)\n",
    "test_r2 = r2_score(y_test, y_test_pred)\n",
    "print('train MAE: %.2e'%test_mae)\n",
    "print('train MSE: %.2e'%test_mse)\n",
    "print('train R2: %.3f'%test_r2)\n"
   ]
  },
  {
   "cell_type": "code",
   "execution_count": 10,
   "id": "fbf19cc3",
   "metadata": {},
   "outputs": [
    {
     "name": "stdout",
     "output_type": "stream",
     "text": [
      "\u001b[1m2096/2096\u001b[0m \u001b[32m━━━━━━━━━━━━━━━━━━━━\u001b[0m\u001b[37m\u001b[0m \u001b[1m1s\u001b[0m 305us/step\n",
      "train MAE: 2.24e+00\n",
      "train MSE: 3.12e+01\n",
      "train R2: 0.980\n",
      "-----------\n",
      "\u001b[1m233/233\u001b[0m \u001b[32m━━━━━━━━━━━━━━━━━━━━\u001b[0m\u001b[37m\u001b[0m \u001b[1m0s\u001b[0m 402us/step\n",
      "train MAE: 2.22e+00\n",
      "train MSE: 2.95e+01\n",
      "train R2: 0.982\n",
      "\u001b[1m2096/2096\u001b[0m \u001b[32m━━━━━━━━━━━━━━━━━━━━\u001b[0m\u001b[37m\u001b[0m \u001b[1m1s\u001b[0m 307us/step\n",
      "\u001b[1m233/233\u001b[0m \u001b[32m━━━━━━━━━━━━━━━━━━━━\u001b[0m\u001b[37m\u001b[0m \u001b[1m0s\u001b[0m 330us/step\n"
     ]
    },
    {
     "data": {
      "image/png": "[encoded data removed]",
      "text/plain": [
       "<Figure size 600x500 with 4 Axes>"
      ]
     },
     "metadata": {},
     "output_type": "display_data"
    }
   ],
   "source": [
    "train_mae, train_mse, train_r2, test_mae, test_mse, test_r2 = train_test_score(model_dl, x_train, y_train, x_test, y_test)\n",
    "\n",
    "y_train_pred = model_dl.predict(x_train)\n",
    "y_test_pred = model_dl.predict(x_test)\n",
    "visualize_prediction(y_train_pred, train_r2, y_test_pred, test_r2)"
   ]
  },
  {
   "cell_type": "code",
   "execution_count": null,
   "id": "6418de02",
   "metadata": {},
   "outputs": [
    {
     "name": "stderr",
     "output_type": "stream",
     "text": [
      "/opt/anaconda3/lib/python3.12/site-packages/SALib/util/__init__.py:274: FutureWarning: unique with argument that is not not a Series, Index, ExtensionArray, or np.ndarray is deprecated and will raise in a future version.\n",
      "  names = list(pd.unique(groups))\n"
     ]
    },
    {
     "name": "stdout",
     "output_type": "stream",
     "text": [
      "              ST   ST_conf\n",
      "EL      0.165588  0.003757\n",
      "FWHM    0.859764  0.013196\n",
      "TauL    0.020273  0.000587\n",
      "Pol     0.050210  0.001434\n",
      "Theta   0.402996  0.010130\n",
      "lambda  0.014008  0.000450\n",
      "dT      0.042449  0.001385\n",
      "              S1   S1_conf\n",
      "EL      0.026728  0.001944\n",
      "FWHM    0.439361  0.010716\n",
      "TauL    0.001269  0.000733\n",
      "Pol     0.006404  0.001132\n",
      "Theta   0.074770  0.003449\n",
      "lambda  0.000022  0.000646\n",
      "dT      0.001986  0.001081\n",
      "                       S2   S2_conf\n",
      "(EL, FWHM)       0.074691  0.006668\n",
      "(EL, TauL)       0.000085  0.003365\n",
      "(EL, Pol)        0.001080  0.003413\n",
      "(EL, Theta)      0.013743  0.003645\n",
      "(EL, lambda)    -0.000094  0.003418\n",
      "(EL, dT)         0.000207  0.003466\n",
      "(FWHM, TauL)     0.005040  0.016568\n",
      "(FWHM, Pol)      0.015203  0.017597\n",
      "(FWHM, Theta)    0.223368  0.022336\n",
      "(FWHM, lambda)   0.000657  0.016833\n",
      "(FWHM, dT)       0.014193  0.016785\n",
      "(TauL, Pol)      0.000363  0.001224\n",
      "(TauL, Theta)    0.001906  0.001421\n",
      "(TauL, lambda)   0.000303  0.001196\n",
      "(TauL, dT)       0.000278  0.001186\n",
      "(Pol, Theta)     0.006215  0.002217\n",
      "(Pol, lambda)    0.000072  0.002075\n",
      "(Pol, dT)        0.000006  0.002168\n",
      "(Theta, lambda)  0.001121  0.004880\n",
      "(Theta, dT)      0.002960  0.005015\n",
      "(lambda, dT)     0.000267  0.001056\n"
     ]
    }
   ],
   "source": [
    "\n",
    "# Setup the sobol analysis\n",
    "# Define the model inputs\n",
    "problem = {\n",
    "    \"num_vars\": 7,\n",
    "    \"names\": [\"EL\", \"FWHM\", \"TauL\", \"Pol\", \"Theta\", \"lambda\", \"dT\"],\n",
    "    \"bounds\": [[0, 1], [0, 1], [0, 1], [0, 1], [0, 1], [0, 1], [0, 1]],  # pol\n",
    "}\n",
    "# Generate samples\n",
    "param_values = sample.sample(problem, 16 * 16384, calc_second_order=True)\n",
    "# param_values.shape\n",
    "# Round polarization value\n",
    "param_values[:, 3] = np.around(param_values[:, 3])\n",
    "# Run model\n",
    "Y = model_dl(param_values).numpy().flatten()\n",
    "\n",
    "\n",
    "# Perform analysis\n",
    "Si = sobol.analyze(problem, Y, print_to_console=True)\n",
    "# Print the first-order sensitivity indices\n",
    "# print(param_values)"
   ]
  },
  {
   "cell_type": "code",
   "execution_count": null,
   "id": "a168830a",
   "metadata": {},
   "outputs": [],
   "source": [
    "\n",
    "# function to round result to significant digits\n",
    "def round_to_1(x, refx):\n",
    "    return round(x, -int(floor(log10(abs(refx)))))"
   ]
  },
  {
   "cell_type": "code",
   "execution_count": null,
   "id": "53e43929",
   "metadata": {},
   "outputs": [
    {
     "name": "stderr",
     "output_type": "stream",
     "text": [
      "<>:31: SyntaxWarning: invalid escape sequence '\\p'\n",
      "<>:31: SyntaxWarning: invalid escape sequence '\\p'\n",
      "/var/folders/g1/_35pwh893r3ffwtp9yc16yl00000gp/T/ipykernel_14621/344202404.py:31: SyntaxWarning: invalid escape sequence '\\p'\n",
      "  labeling = r\"$\" + str(mean[i]) + \"\\pm\" + str(sigma[i]) + \"$\"\n"
     ]
    },
    {
     "data": {
      "image/png": "[encoded data removed]",
      "text/plain": [
       "<Figure size 640x480 with 1 Axes>"
      ]
     },
     "metadata": {},
     "output_type": "display_data"
    }
   ],
   "source": [
    "# Plot the total Sobol variation plot.\n",
    "# calculate the mean and sigma for display\n",
    "sigma = [round_to_1(Si[\"ST_conf\"][i], Si[\"ST_conf\"][i]) for i in range(problem[\"num_vars\"])]\n",
    "mean  = [round_to_1(Si[\"ST\"][i], Si[\"ST_conf\"][i]) for i in range(problem[\"num_vars\"])]\n",
    "\n",
    "plt.figure(dpi=100)\n",
    "plt.rcParams[\"font.size\"] = \"13\"\n",
    "\n",
    "# set x axis params:\n",
    "x = [i for i in range(problem[\"num_vars\"])]\n",
    "# step 1: plot the bar chart\n",
    "plt.bar(x, Si[\"ST\"])\n",
    "# step 2: plot the errorbar\n",
    "plt.errorbar(x, Si[\"ST\"], yerr=Si[\"ST_conf\"], fmt=\".\", color=\"r\")\n",
    "\n",
    "# step 3: adjust tick labeling\n",
    "plot_labels = [\n",
    "    r\"E$_L$\",\n",
    "    r\"r$_L$\",\n",
    "    r\"$\\tau_L$\",\n",
    "    r\"Pol\",\n",
    "    r\"$\\Theta_L$\",\n",
    "    r\"$\\lambda_L$\",\n",
    "    r\"$d_T$\",\n",
    "]\n",
    "\n",
    "plot_labels = plot_labels[7 - problem[\"num_vars\"] :]\n",
    "plt.xticks(x, labels=plot_labels)\n",
    "plt.ylabel(\"Total Sobol\", fontsize=15, weight=\"bold\")\n",
    "for i in range(problem[\"num_vars\"]):\n",
    "    labeling = r\"$\" + str(mean[i]) + \"\\pm\" + str(sigma[i]) + \"$\"\n",
    "    plt.text(x[i], 0.2, labeling, fontsize=11, rotation=90)\n"
   ]
  },
  {
   "cell_type": "markdown",
   "id": "9742e9f0",
   "metadata": {},
   "source": [
    "# 4. Model comparison"
   ]
  },
  {
   "cell_type": "markdown",
   "id": "c98054a5",
   "metadata": {},
   "source": [
    "Model performance\n",
    "- DL has the best performance (R2~0.98) and generalization (train/test result very close) \n",
    "\n",
    "Interpretability\n",
    "- All 3 models (Random Forest, XGBoost, Deep Learning) have similar feature importance ranking.\n",
    "- Deep Learning's feature ranking is particularly close to that of Random Forest. "
   ]
  }
 ],
 "metadata": {
  "kernelspec": {
   "display_name": "base",
   "language": "python",
   "name": "python3"
  },
  "language_info": {
   "codemirror_mode": {
    "name": "ipython",
    "version": 3
   },
   "file_extension": ".py",
   "mimetype": "text/x-python",
   "name": "python",
   "nbconvert_exporter": "python",
   "pygments_lexer": "ipython3",
   "version": "3.12.7"
  }
 },
 "nbformat": 4,
 "nbformat_minor": 5
}
